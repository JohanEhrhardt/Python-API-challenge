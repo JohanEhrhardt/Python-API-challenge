{
 "cells": [
  {
   "cell_type": "markdown",
   "metadata": {},
   "source": [
    "# WeatherPy\n",
    "----\n",
    "\n",
    "#### Note\n",
    "* Instructions have been included for each segment. You do not have to follow them exactly, but they are included to help you think through the steps."
   ]
  },
  {
   "cell_type": "code",
   "execution_count": 1,
   "metadata": {
    "scrolled": true
   },
   "outputs": [],
   "source": [
    "# Dependencies and Setup\n",
    "import matplotlib.pyplot as plt\n",
    "import pandas as pd\n",
    "import numpy as np\n",
    "import requests\n",
    "import time\n",
    "from scipy.stats import linregress\n",
    "import os\n",
    "import csv\n",
    "from datetime import date\n",
    "\n",
    "# Import API key\n",
    "from api_keys import weather_api_key\n",
    "\n",
    "# Incorporated citipy to determine city based on latitude and longitude\n",
    "from citipy import citipy\n",
    "\n",
    "# Range of latitudes and longitudes\n",
    "lat_range = (-90, 90)\n",
    "lng_range = (-180, 180)"
   ]
  },
  {
   "cell_type": "markdown",
   "metadata": {},
   "source": [
    "## Generate Cities List"
   ]
  },
  {
   "cell_type": "code",
   "execution_count": 2,
   "metadata": {},
   "outputs": [
    {
     "data": {
      "text/plain": [
       "610"
      ]
     },
     "execution_count": 2,
     "metadata": {},
     "output_type": "execute_result"
    }
   ],
   "source": [
    "# List for holding lat_lngs and cities\n",
    "lat_lngs = []\n",
    "cities = []\n",
    "\n",
    "# Create a set of random lat and lng combinations\n",
    "lats = np.random.uniform(lat_range[0], lat_range[1], size=1500)\n",
    "lngs = np.random.uniform(lng_range[0], lng_range[1], size=1500)\n",
    "lat_lngs = zip(lats, lngs)\n",
    "\n",
    "# Identify nearest city for each lat, lng combination\n",
    "for lat_lng in lat_lngs:\n",
    "    city = citipy.nearest_city(lat_lng[0], lat_lng[1]).city_name\n",
    "    \n",
    "    # If the city is unique, then add it to a our cities list\n",
    "    if city not in cities:\n",
    "        cities.append(city)\n",
    "\n",
    "# Print the city count to confirm sufficient count\n",
    "len(cities)"
   ]
  },
  {
   "cell_type": "markdown",
   "metadata": {},
   "source": [
    "### Perform API Calls\n",
    "* Perform a weather check on each city using a series of successive API calls.\n",
    "* Include a print log of each city as it'sbeing processed (with the city number and city name).\n"
   ]
  },
  {
   "cell_type": "code",
   "execution_count": 3,
   "metadata": {
    "scrolled": true
   },
   "outputs": [
    {
     "name": "stdout",
     "output_type": "stream",
     "text": [
      "Beginning Data Retrieval\n",
      "---------------------------\n",
      "Processing Record 1 of Set 1 | busselton\n",
      "Processing Record 2 of Set 1 | cabedelo\n",
      "Processing Record 3 of Set 1 | mehamn\n",
      "Processing Record 4 of Set 1 | constitucion\n",
      "Processing Record 5 of Set 1 | rikitea\n",
      "Processing Record 6 of Set 1 | sao gabriel da cachoeira\n",
      "Processing Record 7 of Set 1 | mugur-aksy\n",
      "Processing Record 8 of Set 1 | nome\n",
      "Processing Record 9 of Set 1 | ancud\n",
      "Processing Record 10 of Set 1 | georgetown\n",
      "Processing Record 11 of Set 1 | tiarei\n",
      "City not found. Skipping...\n",
      "Processing Record 12 of Set 1 | thompson\n",
      "Processing Record 13 of Set 1 | brae\n",
      "Processing Record 14 of Set 1 | punta arenas\n",
      "Processing Record 15 of Set 1 | kalabo\n",
      "Processing Record 16 of Set 1 | mar del plata\n",
      "Processing Record 17 of Set 1 | narsaq\n",
      "Processing Record 18 of Set 1 | tommot\n",
      "Processing Record 19 of Set 1 | basoko\n",
      "Processing Record 20 of Set 1 | ushuaia\n",
      "Processing Record 21 of Set 1 | artyom\n",
      "Processing Record 22 of Set 1 | mataura\n",
      "Processing Record 23 of Set 1 | shache\n",
      "Processing Record 24 of Set 1 | alofi\n",
      "Processing Record 25 of Set 1 | matagami\n",
      "Processing Record 26 of Set 1 | beyneu\n",
      "Processing Record 27 of Set 1 | cape town\n",
      "Processing Record 28 of Set 1 | leningradskiy\n",
      "Processing Record 29 of Set 1 | torbay\n",
      "Processing Record 30 of Set 1 | airai\n",
      "Processing Record 31 of Set 1 | ostrovnoy\n",
      "Processing Record 32 of Set 1 | vanimo\n",
      "Processing Record 33 of Set 1 | panama city\n",
      "City not found. Skipping...\n",
      "Processing Record 34 of Set 1 | hobart\n",
      "City not found. Skipping...\n",
      "Processing Record 35 of Set 1 | port hardy\n",
      "Processing Record 36 of Set 1 | yellowknife\n",
      "Processing Record 37 of Set 1 | victoria\n",
      "Processing Record 38 of Set 1 | ribeira grande\n",
      "Processing Record 39 of Set 1 | pevek\n",
      "Processing Record 40 of Set 1 | mount isa\n",
      "Processing Record 41 of Set 1 | olden\n",
      "City not found. Skipping...\n",
      "Processing Record 42 of Set 1 | turukhansk\n",
      "Processing Record 43 of Set 1 | fortuna\n",
      "City not found. Skipping...\n",
      "Processing Record 44 of Set 1 | araouane\n",
      "Processing Record 45 of Set 1 | albany\n",
      "Processing Record 46 of Set 1 | avera\n",
      "Processing Record 47 of Set 1 | invermere\n",
      "Processing Record 48 of Set 1 | bluff\n",
      "Processing Record 49 of Set 1 | dumai\n",
      "Processing Record 50 of Set 1 | hithadhoo\n",
      "Processing Record 0 of Set 2 | vaini\n",
      "Processing Record 1 of Set 2 | whitehorse\n",
      "Processing Record 2 of Set 2 | geraldton\n",
      "Processing Record 3 of Set 2 | port alfred\n",
      "Processing Record 4 of Set 2 | gua\n",
      "Processing Record 5 of Set 2 | oron\n",
      "Processing Record 6 of Set 2 | kodiak\n",
      "Processing Record 7 of Set 2 | mahebourg\n",
      "Processing Record 8 of Set 2 | namibe\n",
      "Processing Record 9 of Set 2 | telde\n",
      "Processing Record 10 of Set 2 | klaksvik\n",
      "Processing Record 11 of Set 2 | vestmannaeyjar\n",
      "Processing Record 12 of Set 2 | bandarbeyla\n",
      "Processing Record 13 of Set 2 | mitsamiouli\n",
      "Processing Record 14 of Set 2 | saint anthony\n",
      "Processing Record 15 of Set 2 | adrar\n",
      "Processing Record 16 of Set 2 | severodvinsk\n",
      "Processing Record 17 of Set 2 | nikolskoye\n",
      "Processing Record 18 of Set 2 | grindavik\n",
      "Processing Record 19 of Set 2 | lompoc\n",
      "Processing Record 20 of Set 2 | tiksi\n",
      "Processing Record 21 of Set 2 | glendive\n",
      "Processing Record 22 of Set 2 | puerto del rosario\n",
      "Processing Record 23 of Set 2 | yining\n",
      "Processing Record 24 of Set 2 | hvide sande\n",
      "Processing Record 25 of Set 2 | samfya\n",
      "Processing Record 26 of Set 2 | hasaki\n",
      "Processing Record 27 of Set 2 | dingle\n",
      "Processing Record 28 of Set 2 | swift current\n",
      "Processing Record 29 of Set 2 | hofn\n",
      "Processing Record 30 of Set 2 | tuatapere\n",
      "Processing Record 31 of Set 2 | tuktoyaktuk\n",
      "Processing Record 32 of Set 2 | tongliao\n",
      "Processing Record 33 of Set 2 | kapaa\n",
      "Processing Record 34 of Set 2 | saint-augustin\n",
      "Processing Record 35 of Set 2 | saint-philippe\n",
      "Processing Record 36 of Set 2 | porto santo\n",
      "Processing Record 37 of Set 2 | marquette\n",
      "City not found. Skipping...\n",
      "Processing Record 38 of Set 2 | saskylakh\n",
      "City not found. Skipping...\n",
      "Processing Record 39 of Set 2 | havoysund\n",
      "Processing Record 40 of Set 2 | severo-yeniseyskiy\n",
      "Processing Record 41 of Set 2 | fairhope\n",
      "Processing Record 42 of Set 2 | tasiilaq\n",
      "Processing Record 43 of Set 2 | khatanga\n",
      "Processing Record 44 of Set 2 | yumen\n",
      "Processing Record 45 of Set 2 | carnarvon\n",
      "Processing Record 46 of Set 2 | bonavista\n",
      "Processing Record 47 of Set 2 | avarua\n",
      "Processing Record 48 of Set 2 | huntington\n",
      "Processing Record 49 of Set 2 | krasnoselkup\n",
      "Processing Record 50 of Set 2 | yulara\n",
      "City not found. Skipping...\n",
      "Processing Record 0 of Set 3 | upernavik\n",
      "Processing Record 1 of Set 3 | tabou\n",
      "Processing Record 2 of Set 3 | butaritari\n",
      "Processing Record 3 of Set 3 | beirut\n",
      "Processing Record 4 of Set 3 | shushtar\n",
      "Processing Record 5 of Set 3 | solnechnyy\n",
      "Processing Record 6 of Set 3 | sitka\n",
      "Processing Record 7 of Set 3 | puerto escondido\n",
      "Processing Record 8 of Set 3 | bambous virieux\n",
      "City not found. Skipping...\n",
      "City not found. Skipping...\n",
      "Processing Record 9 of Set 3 | salalah\n",
      "Processing Record 10 of Set 3 | yenagoa\n",
      "Processing Record 11 of Set 3 | tadine\n",
      "Processing Record 12 of Set 3 | new norfolk\n",
      "Processing Record 13 of Set 3 | ternate\n",
      "Processing Record 14 of Set 3 | tura\n",
      "City not found. Skipping...\n",
      "Processing Record 15 of Set 3 | arraial do cabo\n",
      "City not found. Skipping...\n",
      "Processing Record 16 of Set 3 | pundaguitan\n",
      "Processing Record 17 of Set 3 | iqaluit\n",
      "Processing Record 18 of Set 3 | chokurdakh\n",
      "Processing Record 19 of Set 3 | talnakh\n",
      "Processing Record 20 of Set 3 | ambikapur\n",
      "Processing Record 21 of Set 3 | jamestown\n",
      "Processing Record 22 of Set 3 | lagoa\n",
      "Processing Record 23 of Set 3 | kieta\n",
      "City not found. Skipping...\n",
      "Processing Record 24 of Set 3 | deputatskiy\n",
      "Processing Record 25 of Set 3 | kulhudhuffushi\n",
      "Processing Record 26 of Set 3 | barrow\n",
      "Processing Record 27 of Set 3 | morant bay\n",
      "City not found. Skipping...\n",
      "City not found. Skipping...\n",
      "Processing Record 28 of Set 3 | atuona\n",
      "Processing Record 29 of Set 3 | bengkulu\n",
      "Processing Record 30 of Set 3 | dalbandin\n",
      "Processing Record 31 of Set 3 | severo-kurilsk\n",
      "Processing Record 32 of Set 3 | tonantins\n",
      "Processing Record 33 of Set 3 | brooks\n",
      "City not found. Skipping...\n",
      "Processing Record 34 of Set 3 | hovd\n",
      "Processing Record 35 of Set 3 | decatur\n",
      "Processing Record 36 of Set 3 | port blair\n",
      "Processing Record 37 of Set 3 | longyearbyen\n",
      "Processing Record 38 of Set 3 | norman wells\n",
      "City not found. Skipping...\n",
      "Processing Record 39 of Set 3 | naron\n",
      "Processing Record 40 of Set 3 | ust-maya\n",
      "Processing Record 41 of Set 3 | harderwijk\n",
      "Processing Record 42 of Set 3 | olafsvik\n",
      "City not found. Skipping...\n",
      "City not found. Skipping...\n",
      "Processing Record 43 of Set 3 | miri\n",
      "City not found. Skipping...\n",
      "Processing Record 44 of Set 3 | lebu\n",
      "Processing Record 45 of Set 3 | traian\n",
      "Processing Record 46 of Set 3 | puerto ayora\n",
      "City not found. Skipping...\n",
      "Processing Record 47 of Set 3 | kysyl-syr\n",
      "Processing Record 48 of Set 3 | belyy yar\n",
      "City not found. Skipping...\n",
      "Processing Record 49 of Set 3 | meulaboh\n",
      "Processing Record 50 of Set 3 | hualmay\n",
      "Processing Record 0 of Set 4 | chernyshevskiy\n",
      "Processing Record 1 of Set 4 | abu zabad\n",
      "Processing Record 2 of Set 4 | saldanha\n",
      "Processing Record 3 of Set 4 | ascension\n",
      "Processing Record 4 of Set 4 | hilo\n",
      "Processing Record 5 of Set 4 | hermanus\n",
      "Processing Record 6 of Set 4 | codrington\n",
      "Processing Record 7 of Set 4 | russell\n",
      "Processing Record 8 of Set 4 | danane\n",
      "Processing Record 9 of Set 4 | rozsypne\n",
      "Processing Record 10 of Set 4 | makakilo city\n",
      "Processing Record 11 of Set 4 | bredasdorp\n",
      "Processing Record 12 of Set 4 | coquimbo\n",
      "Processing Record 13 of Set 4 | castro\n",
      "Processing Record 14 of Set 4 | kaitangata\n",
      "Processing Record 15 of Set 4 | vardo\n",
      "City not found. Skipping...\n",
      "Processing Record 16 of Set 4 | manta\n",
      "Processing Record 17 of Set 4 | kampot\n",
      "Processing Record 18 of Set 4 | upata\n",
      "Processing Record 19 of Set 4 | ambilobe\n",
      "Processing Record 20 of Set 4 | puksoozero\n",
      "Processing Record 21 of Set 4 | clyde river\n",
      "Processing Record 22 of Set 4 | ixtapa\n",
      "Processing Record 23 of Set 4 | ishigaki\n",
      "Processing Record 24 of Set 4 | tilichiki\n",
      "Processing Record 25 of Set 4 | gwembe\n",
      "Processing Record 26 of Set 4 | catemaco\n",
      "Processing Record 27 of Set 4 | assiniboia\n",
      "Processing Record 28 of Set 4 | senador guiomard\n",
      "Processing Record 29 of Set 4 | nehe\n",
      "Processing Record 30 of Set 4 | fort-shevchenko\n",
      "Processing Record 31 of Set 4 | pacific grove\n",
      "Processing Record 32 of Set 4 | broome\n",
      "Processing Record 33 of Set 4 | cukai\n",
      "Processing Record 34 of Set 4 | wanning\n",
      "Processing Record 35 of Set 4 | qaanaaq\n",
      "Processing Record 36 of Set 4 | la ronge\n",
      "Processing Record 37 of Set 4 | vieques\n",
      "City not found. Skipping...\n",
      "Processing Record 38 of Set 4 | santa barbara\n",
      "Processing Record 39 of Set 4 | chuy\n",
      "Processing Record 40 of Set 4 | bako\n",
      "City not found. Skipping...\n",
      "Processing Record 41 of Set 4 | guerrero negro\n",
      "Processing Record 42 of Set 4 | namtsy\n",
      "Processing Record 43 of Set 4 | sosnovo-ozerskoye\n",
      "Processing Record 44 of Set 4 | ajdabiya\n",
      "Processing Record 45 of Set 4 | biloela\n",
      "Processing Record 46 of Set 4 | takoradi\n",
      "City not found. Skipping...\n",
      "Processing Record 47 of Set 4 | casian\n",
      "Processing Record 48 of Set 4 | praia\n",
      "Processing Record 49 of Set 4 | moose factory\n",
      "Processing Record 50 of Set 4 | hami\n",
      "City not found. Skipping...\n",
      "Processing Record 0 of Set 5 | lopatyn\n",
      "City not found. Skipping...\n",
      "Processing Record 1 of Set 5 | saint george\n",
      "Processing Record 2 of Set 5 | padang\n",
      "Processing Record 3 of Set 5 | korla\n",
      "Processing Record 4 of Set 5 | talara\n",
      "Processing Record 5 of Set 5 | tazovskiy\n",
      "Processing Record 6 of Set 5 | jawhar\n",
      "Processing Record 7 of Set 5 | henties bay\n",
      "Processing Record 8 of Set 5 | dikson\n",
      "Processing Record 9 of Set 5 | aromashevo\n",
      "Processing Record 10 of Set 5 | lodwar\n",
      "Processing Record 11 of Set 5 | san patricio\n",
      "Processing Record 12 of Set 5 | ustye\n",
      "Processing Record 13 of Set 5 | phalaborwa\n",
      "City not found. Skipping...\n",
      "Processing Record 14 of Set 5 | kanniyakumari\n",
      "Processing Record 15 of Set 5 | pangnirtung\n",
      "Processing Record 16 of Set 5 | kontagora\n",
      "Processing Record 17 of Set 5 | neiafu\n",
      "Processing Record 18 of Set 5 | caluquembe\n",
      "Processing Record 19 of Set 5 | lasa\n",
      "Processing Record 20 of Set 5 | sur\n",
      "Processing Record 21 of Set 5 | lalsk\n",
      "Processing Record 22 of Set 5 | sakakah\n",
      "Processing Record 23 of Set 5 | gra liyia\n",
      "Processing Record 24 of Set 5 | nuuk\n",
      "Processing Record 25 of Set 5 | pisco\n",
      "Processing Record 26 of Set 5 | ulladulla\n",
      "Processing Record 27 of Set 5 | nadadores\n",
      "Processing Record 28 of Set 5 | san isidro\n",
      "Processing Record 29 of Set 5 | le vauclin\n",
      "Processing Record 30 of Set 5 | venice\n",
      "Processing Record 31 of Set 5 | jingdezhen\n",
      "Processing Record 32 of Set 5 | corsicana\n",
      "Processing Record 33 of Set 5 | angoram\n",
      "Processing Record 34 of Set 5 | bathsheba\n",
      "Processing Record 35 of Set 5 | quevedo\n",
      "Processing Record 36 of Set 5 | katsuura\n",
      "Processing Record 37 of Set 5 | kakching\n",
      "Processing Record 38 of Set 5 | prieska\n",
      "Processing Record 39 of Set 5 | lifford\n",
      "Processing Record 40 of Set 5 | moron\n",
      "Processing Record 41 of Set 5 | fairbanks\n",
      "Processing Record 42 of Set 5 | rajpipla\n",
      "City not found. Skipping...\n",
      "Processing Record 43 of Set 5 | sao filipe\n",
      "Processing Record 44 of Set 5 | fereydun kenar\n",
      "Processing Record 45 of Set 5 | san cristobal\n",
      "Processing Record 46 of Set 5 | kiama\n",
      "Processing Record 47 of Set 5 | luderitz\n",
      "Processing Record 48 of Set 5 | alice town\n",
      "Processing Record 49 of Set 5 | hirara\n",
      "Processing Record 50 of Set 5 | afua\n",
      "Processing Record 0 of Set 6 | omboue\n",
      "Processing Record 1 of Set 6 | plerin\n",
      "Processing Record 2 of Set 6 | honningsvag\n",
      "Processing Record 3 of Set 6 | kota kinabalu\n",
      "Processing Record 4 of Set 6 | port elizabeth\n",
      "City not found. Skipping...\n",
      "Processing Record 5 of Set 6 | volchikha\n",
      "Processing Record 6 of Set 6 | dunmore town\n",
      "Processing Record 7 of Set 6 | kahului\n",
      "Processing Record 8 of Set 6 | iracoubo\n",
      "Processing Record 9 of Set 6 | minab\n",
      "Processing Record 10 of Set 6 | arrecife\n",
      "Processing Record 11 of Set 6 | rincon\n",
      "Processing Record 12 of Set 6 | chateaubelair\n",
      "Processing Record 13 of Set 6 | semey\n",
      "Processing Record 14 of Set 6 | gao\n",
      "Processing Record 15 of Set 6 | ananas\n",
      "Processing Record 16 of Set 6 | mackay\n",
      "Processing Record 17 of Set 6 | raudeberg\n",
      "Processing Record 18 of Set 6 | atar\n",
      "Processing Record 19 of Set 6 | vestmanna\n",
      "Processing Record 20 of Set 6 | sungairaya\n",
      "Processing Record 21 of Set 6 | derzhavinsk\n",
      "Processing Record 22 of Set 6 | la grande\n",
      "Processing Record 23 of Set 6 | montepuez\n",
      "Processing Record 24 of Set 6 | ponta do sol\n",
      "Processing Record 25 of Set 6 | halifax\n",
      "Processing Record 26 of Set 6 | liverpool\n",
      "Processing Record 27 of Set 6 | valparaiso\n",
      "City not found. Skipping...\n",
      "Processing Record 28 of Set 6 | jurm\n",
      "Processing Record 29 of Set 6 | bonthe\n",
      "Processing Record 30 of Set 6 | casablanca\n",
      "Processing Record 31 of Set 6 | east london\n",
      "Processing Record 32 of Set 6 | umm lajj\n",
      "Processing Record 33 of Set 6 | onguday\n",
      "City not found. Skipping...\n",
      "Processing Record 34 of Set 6 | beloha\n",
      "Processing Record 35 of Set 6 | college\n",
      "Processing Record 36 of Set 6 | arman\n",
      "Processing Record 37 of Set 6 | duminichi\n",
      "Processing Record 38 of Set 6 | vao\n",
      "Processing Record 39 of Set 6 | yantai\n",
      "Processing Record 40 of Set 6 | garden city\n",
      "Processing Record 41 of Set 6 | rawson\n",
      "Processing Record 42 of Set 6 | samarai\n",
      "Processing Record 43 of Set 6 | plettenberg bay\n",
      "Processing Record 44 of Set 6 | apiai\n",
      "Processing Record 45 of Set 6 | namatanai\n",
      "Processing Record 46 of Set 6 | port moresby\n",
      "Processing Record 47 of Set 6 | panna\n",
      "Processing Record 48 of Set 6 | mount gambier\n",
      "Processing Record 49 of Set 6 | maloy\n",
      "Processing Record 50 of Set 6 | grand gaube\n",
      "Processing Record 0 of Set 7 | gimli\n",
      "Processing Record 1 of Set 7 | boa vista\n",
      "Processing Record 2 of Set 7 | bosaso\n",
      "Processing Record 3 of Set 7 | yerbogachen\n",
      "Processing Record 4 of Set 7 | birin\n",
      "Processing Record 5 of Set 7 | campagna\n",
      "Processing Record 6 of Set 7 | maarianhamina\n",
      "Processing Record 7 of Set 7 | staryy krym\n",
      "Processing Record 8 of Set 7 | winkler\n",
      "Processing Record 9 of Set 7 | kaeo\n",
      "Processing Record 10 of Set 7 | laguna\n",
      "Processing Record 11 of Set 7 | goderich\n",
      "Processing Record 12 of Set 7 | faanui\n",
      "Processing Record 13 of Set 7 | bubaque\n",
      "Processing Record 14 of Set 7 | zambezi\n",
      "City not found. Skipping...\n",
      "Processing Record 15 of Set 7 | karratha\n",
      "Processing Record 16 of Set 7 | imeni poliny osipenko\n",
      "Processing Record 17 of Set 7 | vostok\n",
      "Processing Record 18 of Set 7 | esperance\n",
      "Processing Record 19 of Set 7 | ville-marie\n",
      "Processing Record 20 of Set 7 | inirida\n",
      "City not found. Skipping...\n",
      "Processing Record 21 of Set 7 | petropavlovsk-kamchatskiy\n",
      "Processing Record 22 of Set 7 | ucluelet\n",
      "Processing Record 23 of Set 7 | sinjar\n",
      "Processing Record 24 of Set 7 | rabaul\n",
      "Processing Record 25 of Set 7 | vila velha\n",
      "Processing Record 26 of Set 7 | nelson bay\n",
      "Processing Record 27 of Set 7 | banda aceh\n",
      "Processing Record 28 of Set 7 | lavrentiya\n",
      "Processing Record 29 of Set 7 | flin flon\n",
      "Processing Record 30 of Set 7 | providencia\n",
      "Processing Record 31 of Set 7 | grootfontein\n",
      "Processing Record 32 of Set 7 | palatka\n",
      "Processing Record 33 of Set 7 | tevaitoa\n",
      "Processing Record 34 of Set 7 | maniitsoq\n",
      "Processing Record 35 of Set 7 | goba\n",
      "Processing Record 36 of Set 7 | beringovskiy\n",
      "Processing Record 37 of Set 7 | nanakuli\n",
      "Processing Record 38 of Set 7 | den helder\n",
      "Processing Record 39 of Set 7 | fort saint james\n",
      "Processing Record 40 of Set 7 | dustlik\n",
      "Processing Record 41 of Set 7 | olinda\n",
      "Processing Record 42 of Set 7 | bethel\n",
      "Processing Record 43 of Set 7 | nedjo\n",
      "Processing Record 44 of Set 7 | chas\n",
      "Processing Record 45 of Set 7 | ilulissat\n",
      "Processing Record 46 of Set 7 | orapa\n",
      "Processing Record 47 of Set 7 | zhigansk\n",
      "Processing Record 48 of Set 7 | novobirilyussy\n",
      "Processing Record 49 of Set 7 | maracacume\n",
      "City not found. Skipping...\n",
      "Processing Record 50 of Set 7 | passo de camaragibe\n",
      "Processing Record 0 of Set 8 | lorengau\n",
      "Processing Record 1 of Set 8 | nanortalik\n",
      "Processing Record 2 of Set 8 | mayor pablo lagerenza\n",
      "Processing Record 3 of Set 8 | luanda\n",
      "Processing Record 4 of Set 8 | cap malheureux\n",
      "Processing Record 5 of Set 8 | marrakesh\n",
      "Processing Record 6 of Set 8 | shugurovo\n",
      "Processing Record 7 of Set 8 | jambi\n",
      "Processing Record 8 of Set 8 | ipanema\n",
      "Processing Record 9 of Set 8 | aksu\n",
      "Processing Record 10 of Set 8 | evensk\n",
      "Processing Record 11 of Set 8 | seoul\n",
      "Processing Record 12 of Set 8 | asosa\n",
      "Processing Record 13 of Set 8 | richards bay\n",
      "Processing Record 14 of Set 8 | iquitos\n",
      "City not found. Skipping...\n",
      "Processing Record 15 of Set 8 | guanica\n",
      "Processing Record 16 of Set 8 | lethem\n",
      "Processing Record 17 of Set 8 | roma\n",
      "Processing Record 18 of Set 8 | siraha\n",
      "Processing Record 19 of Set 8 | zlobin\n",
      "Processing Record 20 of Set 8 | laramie\n",
      "City not found. Skipping...\n",
      "Processing Record 21 of Set 8 | vagur\n",
      "Processing Record 22 of Set 8 | luwuk\n",
      "Processing Record 23 of Set 8 | klyuchi\n",
      "Processing Record 24 of Set 8 | srednekolymsk\n",
      "Processing Record 25 of Set 8 | buraydah\n",
      "Processing Record 26 of Set 8 | inhambane\n",
      "Processing Record 27 of Set 8 | kamoke\n",
      "Processing Record 28 of Set 8 | prabumulih\n",
      "Processing Record 29 of Set 8 | cherskiy\n",
      "Processing Record 30 of Set 8 | erzin\n",
      "Processing Record 31 of Set 8 | hailey\n",
      "Processing Record 32 of Set 8 | alihe\n",
      "Processing Record 33 of Set 8 | yar-sale\n",
      "Processing Record 34 of Set 8 | dillon\n",
      "Processing Record 35 of Set 8 | cabo san lucas\n",
      "Processing Record 36 of Set 8 | paamiut\n",
      "Processing Record 37 of Set 8 | panormos\n",
      "Processing Record 38 of Set 8 | athabasca\n",
      "Processing Record 39 of Set 8 | baillif\n",
      "Processing Record 40 of Set 8 | acapulco\n",
      "Processing Record 41 of Set 8 | hamilton\n",
      "Processing Record 42 of Set 8 | belaya gora\n",
      "Processing Record 43 of Set 8 | marawi\n",
      "Processing Record 44 of Set 8 | pemangkat\n",
      "Processing Record 45 of Set 8 | los andes\n",
      "Processing Record 46 of Set 8 | buala\n",
      "Processing Record 47 of Set 8 | makokou\n",
      "Processing Record 48 of Set 8 | rocha\n",
      "Processing Record 49 of Set 8 | cidreira\n",
      "Processing Record 50 of Set 8 | bat yam\n",
      "Processing Record 0 of Set 9 | santa cruz\n",
      "Processing Record 1 of Set 9 | jardim\n",
      "Processing Record 2 of Set 9 | dunedin\n",
      "City not found. Skipping...\n",
      "Processing Record 3 of Set 9 | victor harbor\n",
      "Processing Record 4 of Set 9 | teya\n",
      "Processing Record 5 of Set 9 | eureka\n",
      "City not found. Skipping...\n",
      "Processing Record 6 of Set 9 | havelock\n",
      "Processing Record 7 of Set 9 | great yarmouth\n",
      "Processing Record 8 of Set 9 | houma\n",
      "Processing Record 9 of Set 9 | changji\n",
      "Processing Record 10 of Set 9 | provideniya\n",
      "Processing Record 11 of Set 9 | rabo de peixe\n",
      "Processing Record 12 of Set 9 | qasigiannguit\n",
      "Processing Record 13 of Set 9 | ahipara\n",
      "Processing Record 14 of Set 9 | erenhot\n",
      "Processing Record 15 of Set 9 | kumbo\n",
      "Processing Record 16 of Set 9 | burnie\n",
      "Processing Record 17 of Set 9 | karatsu\n",
      "Processing Record 18 of Set 9 | mendi\n",
      "Processing Record 19 of Set 9 | zheleznogorsk\n",
      "Processing Record 20 of Set 9 | katete\n",
      "City not found. Skipping...\n",
      "Processing Record 21 of Set 9 | bud\n",
      "Processing Record 22 of Set 9 | workington\n",
      "Processing Record 23 of Set 9 | boende\n",
      "Processing Record 24 of Set 9 | tumba\n",
      "Processing Record 25 of Set 9 | tottori\n",
      "Processing Record 26 of Set 9 | baijiantan\n",
      "Processing Record 27 of Set 9 | tateyama\n",
      "Processing Record 28 of Set 9 | le port\n",
      "Processing Record 29 of Set 9 | ola\n",
      "City not found. Skipping...\n",
      "Processing Record 30 of Set 9 | soe\n",
      "Processing Record 31 of Set 9 | tautira\n",
      "Processing Record 32 of Set 9 | touros\n",
      "Processing Record 33 of Set 9 | yayva\n",
      "Processing Record 34 of Set 9 | dawei\n",
      "Processing Record 35 of Set 9 | riyadh\n",
      "City not found. Skipping...\n",
      "Processing Record 36 of Set 9 | oussouye\n",
      "Processing Record 37 of Set 9 | lanja\n",
      "Processing Record 38 of Set 9 | ilhabela\n",
      "Processing Record 39 of Set 9 | dvinskoy\n",
      "Processing Record 40 of Set 9 | luganville\n",
      "City not found. Skipping...\n",
      "Processing Record 41 of Set 9 | zhangye\n",
      "Processing Record 42 of Set 9 | rio grande\n",
      "Processing Record 43 of Set 9 | cody\n",
      "Processing Record 44 of Set 9 | marion\n",
      "Processing Record 45 of Set 9 | edinet\n",
      "City not found. Skipping...\n",
      "Processing Record 46 of Set 9 | sohagpur\n",
      "Processing Record 47 of Set 9 | hede\n",
      "Processing Record 48 of Set 9 | martapura\n",
      "Processing Record 49 of Set 9 | faya\n",
      "Processing Record 50 of Set 9 | prince rupert\n",
      "Processing Record 0 of Set 10 | antsohihy\n",
      "Processing Record 1 of Set 10 | ulaangom\n",
      "Processing Record 2 of Set 10 | arlit\n",
      "Processing Record 3 of Set 10 | husavik\n",
      "Processing Record 4 of Set 10 | altamont\n",
      "Processing Record 5 of Set 10 | fort nelson\n",
      "Processing Record 6 of Set 10 | adre\n",
      "Processing Record 7 of Set 10 | sao joao da barra\n",
      "Processing Record 8 of Set 10 | sao sebastiao\n",
      "Processing Record 9 of Set 10 | vanavara\n",
      "Processing Record 10 of Set 10 | marzuq\n",
      "Processing Record 11 of Set 10 | alexandria\n",
      "Processing Record 12 of Set 10 | hobyo\n",
      "Processing Record 13 of Set 10 | maragogi\n",
      "Processing Record 14 of Set 10 | little current\n",
      "Processing Record 15 of Set 10 | bangui\n",
      "Processing Record 16 of Set 10 | bardsir\n",
      "Processing Record 17 of Set 10 | omagh\n",
      "Processing Record 18 of Set 10 | abilene\n",
      "City not found. Skipping...\n",
      "Processing Record 19 of Set 10 | port lincoln\n",
      "Processing Record 20 of Set 10 | marivan\n",
      "City not found. Skipping...\n",
      "Processing Record 21 of Set 10 | shirokiy\n",
      "Processing Record 22 of Set 10 | fasa\n",
      "Processing Record 23 of Set 10 | sagar\n",
      "Processing Record 24 of Set 10 | horsham\n",
      "Processing Record 25 of Set 10 | taoudenni\n",
      "Processing Record 26 of Set 10 | chicama\n",
      "Processing Record 27 of Set 10 | grande prairie\n",
      "Processing Record 28 of Set 10 | sheridan\n",
      "Processing Record 29 of Set 10 | jacareacanga\n",
      "Processing Record 30 of Set 10 | santa isabel do rio negro\n",
      "Processing Record 31 of Set 10 | kashi\n",
      "Processing Record 32 of Set 10 | esik\n",
      "Processing Record 33 of Set 10 | soma\n",
      "Processing Record 34 of Set 10 | isangel\n",
      "City not found. Skipping...\n",
      "Processing Record 35 of Set 10 | bilaspur\n",
      "Processing Record 36 of Set 10 | vila franca do campo\n",
      "Processing Record 37 of Set 10 | camacha\n",
      "City not found. Skipping...\n",
      "Processing Record 38 of Set 10 | biak\n",
      "Processing Record 39 of Set 10 | puerto madryn\n",
      "Processing Record 40 of Set 10 | dubbo\n",
      "Processing Record 41 of Set 10 | berdigestyakh\n",
      "City not found. Skipping...\n",
      "Processing Record 42 of Set 10 | tulum\n",
      "Processing Record 43 of Set 10 | yantzaza\n",
      "Processing Record 44 of Set 10 | debre birhan\n",
      "City not found. Skipping...\n",
      "Processing Record 45 of Set 10 | hervey bay\n",
      "Processing Record 46 of Set 10 | bara\n",
      "Processing Record 47 of Set 10 | aquiraz\n",
      "Processing Record 48 of Set 10 | gold coast\n",
      "Processing Record 49 of Set 10 | mercedes\n",
      "Processing Record 50 of Set 10 | ampanihy\n",
      "Processing Record 0 of Set 11 | smithers\n",
      "City not found. Skipping...\n",
      "Processing Record 1 of Set 11 | phuket\n",
      "Processing Record 2 of Set 11 | conceicao da barra\n",
      "Processing Record 3 of Set 11 | pitimbu\n",
      "Processing Record 4 of Set 11 | ekimchan\n",
      "City not found. Skipping...\n",
      "Processing Record 5 of Set 11 | kawalu\n",
      "Processing Record 6 of Set 11 | chambery\n",
      "City not found. Skipping...\n",
      "Processing Record 7 of Set 11 | dukat\n",
      "Processing Record 8 of Set 11 | kindu\n",
      "Processing Record 9 of Set 11 | sar-e pul\n",
      "Processing Record 10 of Set 11 | shihezi\n",
      "Processing Record 11 of Set 11 | maneadero\n",
      "Processing Record 12 of Set 11 | sawtell\n",
      "Processing Record 13 of Set 11 | hashtrud\n",
      "City not found. Skipping...\n",
      "Processing Record 14 of Set 11 | bogandinskiy\n",
      "Processing Record 15 of Set 11 | blagoveshchensk\n",
      "Processing Record 16 of Set 11 | uige\n",
      "Processing Record 17 of Set 11 | maryville\n",
      "Processing Record 18 of Set 11 | trapani\n",
      "Processing Record 19 of Set 11 | riviere-au-renard\n",
      "Processing Record 20 of Set 11 | manacapuru\n",
      "Processing Record 21 of Set 11 | kyabe\n",
      "Processing Record 22 of Set 11 | honolulu\n",
      "Processing Record 23 of Set 11 | gat\n",
      "Processing Record 24 of Set 11 | onoda\n",
      "Processing Record 25 of Set 11 | ouadda\n",
      "Processing Record 26 of Set 11 | karaton\n",
      "Processing Record 27 of Set 11 | carupano\n",
      "Processing Record 28 of Set 11 | toora-khem\n",
      "Processing Record 29 of Set 11 | barentu\n",
      "Processing Record 30 of Set 11 | oranjemund\n",
      "Processing Record 31 of Set 11 | peniche\n",
      "Processing Record 32 of Set 11 | letlhakane\n",
      "Processing Record 33 of Set 11 | comodoro rivadavia\n",
      "Processing Record 34 of Set 11 | timmins\n",
      "Processing Record 35 of Set 11 | saint-joseph\n",
      "Processing Record 36 of Set 11 | poltavka\n",
      "Processing Record 37 of Set 11 | te anau\n",
      "Processing Record 38 of Set 11 | southern pines\n",
      "Processing Record 39 of Set 11 | ubinskoye\n",
      "Processing Record 40 of Set 11 | enugu\n",
      "Processing Record 41 of Set 11 | bratsk\n",
      "Processing Record 42 of Set 11 | palmer\n",
      "Processing Record 43 of Set 11 | matara\n",
      "Processing Record 44 of Set 11 | tzucacab\n",
      "Processing Record 45 of Set 11 | puerto baquerizo moreno\n",
      "---------------------------\n",
      "Data Retrieval Complete\n",
      "---------------------------\n"
     ]
    }
   ],
   "source": [
    "# Set url and assign units measure in F \n",
    "url = 'http://api.openweathermap.org/data/2.5/weather?'\n",
    "units = 'imperial'\n",
    "\n",
    "# Build partial query URL\n",
    "query_url = f'{url}appid={weather_api_key}&units={units}&q='\n",
    "\n",
    "number = 1\n",
    "set_num = 1\n",
    "\n",
    "# List that's used to store the data for each city\n",
    "weather_data = []\n",
    "\n",
    "print('Beginning Data Retrieval')\n",
    "print('---------------------------')\n",
    "for city in cities:\n",
    "    response = requests.get(query_url + city).json()\n",
    "    \n",
    "    try:\n",
    "        weather_check = response['weather']\n",
    "        weather_data.append(response)     #collecting the data for 'weather_data' list\n",
    "        \n",
    "        print(f'Processing Record {number} of Set {set_num} | {city}')\n",
    "        number +=1 \n",
    "        if number == 51:\n",
    "            number=0\n",
    "            set_num +=1 \n",
    "    except:\n",
    "        print('City not found. Skipping...')\n",
    "        pass\n",
    "print('---------------------------')\n",
    "print('Data Retrieval Complete')\n",
    "print('---------------------------')\n",
    "\n",
    "# I wrote the code to match the output that was given (the answer in the cell without the code).\n",
    "# If it was up to me how to group the Sets, I would start counting Processing Record from 1 \n",
    "# instead 0. That way we would get 50 Records per Set. \n",
    "\n",
    "# Otherwise, when we start counting Processing Records from 0 (in each Set), in results \n",
    "# it gives us 51 records per Set."
   ]
  },
  {
   "cell_type": "markdown",
   "metadata": {},
   "source": [
    "### Convert Raw Data to DataFrame\n",
    "* Export the city data into a .csv.\n",
    "* Display the DataFrame"
   ]
  },
  {
   "cell_type": "code",
   "execution_count": 4,
   "metadata": {},
   "outputs": [
    {
     "data": {
      "text/html": [
       "<div>\n",
       "<style scoped>\n",
       "    .dataframe tbody tr th:only-of-type {\n",
       "        vertical-align: middle;\n",
       "    }\n",
       "\n",
       "    .dataframe tbody tr th {\n",
       "        vertical-align: top;\n",
       "    }\n",
       "\n",
       "    .dataframe thead th {\n",
       "        text-align: right;\n",
       "    }\n",
       "</style>\n",
       "<table border=\"1\" class=\"dataframe\">\n",
       "  <thead>\n",
       "    <tr style=\"text-align: right;\">\n",
       "      <th></th>\n",
       "      <th>City</th>\n",
       "      <th>Lat</th>\n",
       "      <th>Lng</th>\n",
       "      <th>Max Temp</th>\n",
       "      <th>Humidity</th>\n",
       "      <th>Cloudiness</th>\n",
       "      <th>Wind Speed</th>\n",
       "      <th>Country</th>\n",
       "      <th>Date</th>\n",
       "    </tr>\n",
       "  </thead>\n",
       "  <tbody>\n",
       "    <tr>\n",
       "      <th>0</th>\n",
       "      <td>busselton</td>\n",
       "      <td>-33.6500</td>\n",
       "      <td>115.3333</td>\n",
       "      <td>64.08</td>\n",
       "      <td>74</td>\n",
       "      <td>67</td>\n",
       "      <td>11.30</td>\n",
       "      <td>AU</td>\n",
       "      <td>1655691864</td>\n",
       "    </tr>\n",
       "    <tr>\n",
       "      <th>1</th>\n",
       "      <td>cabedelo</td>\n",
       "      <td>-6.9811</td>\n",
       "      <td>-34.8339</td>\n",
       "      <td>75.87</td>\n",
       "      <td>84</td>\n",
       "      <td>23</td>\n",
       "      <td>9.28</td>\n",
       "      <td>BR</td>\n",
       "      <td>1655691865</td>\n",
       "    </tr>\n",
       "    <tr>\n",
       "      <th>2</th>\n",
       "      <td>mehamn</td>\n",
       "      <td>71.0357</td>\n",
       "      <td>27.8492</td>\n",
       "      <td>42.75</td>\n",
       "      <td>100</td>\n",
       "      <td>100</td>\n",
       "      <td>0.00</td>\n",
       "      <td>NO</td>\n",
       "      <td>1655691865</td>\n",
       "    </tr>\n",
       "    <tr>\n",
       "      <th>3</th>\n",
       "      <td>constitucion</td>\n",
       "      <td>-35.3333</td>\n",
       "      <td>-72.4167</td>\n",
       "      <td>51.30</td>\n",
       "      <td>68</td>\n",
       "      <td>100</td>\n",
       "      <td>3.89</td>\n",
       "      <td>CL</td>\n",
       "      <td>1655691865</td>\n",
       "    </tr>\n",
       "    <tr>\n",
       "      <th>4</th>\n",
       "      <td>rikitea</td>\n",
       "      <td>-23.1203</td>\n",
       "      <td>-134.9692</td>\n",
       "      <td>71.78</td>\n",
       "      <td>65</td>\n",
       "      <td>95</td>\n",
       "      <td>22.12</td>\n",
       "      <td>PF</td>\n",
       "      <td>1655691865</td>\n",
       "    </tr>\n",
       "  </tbody>\n",
       "</table>\n",
       "</div>"
      ],
      "text/plain": [
       "           City      Lat       Lng  Max Temp  Humidity  Cloudiness  \\\n",
       "0     busselton -33.6500  115.3333     64.08        74          67   \n",
       "1      cabedelo  -6.9811  -34.8339     75.87        84          23   \n",
       "2        mehamn  71.0357   27.8492     42.75       100         100   \n",
       "3  constitucion -35.3333  -72.4167     51.30        68         100   \n",
       "4       rikitea -23.1203 -134.9692     71.78        65          95   \n",
       "\n",
       "   Wind Speed Country        Date  \n",
       "0       11.30      AU  1655691864  \n",
       "1        9.28      BR  1655691865  \n",
       "2        0.00      NO  1655691865  \n",
       "3        3.89      CL  1655691865  \n",
       "4       22.12      PF  1655691865  "
      ]
     },
     "execution_count": 4,
     "metadata": {},
     "output_type": "execute_result"
    }
   ],
   "source": [
    "output_path = os.path.join('..','data','cities_data.csv')\n",
    "with open (output_path, 'w', encoding = 'utf-8') as csvfile:\n",
    "    csvwriter = csv.writer(csvfile, delimiter = \",\")\n",
    "    csvwriter.writerow (['City','Lat','Lng','Max Temp','Humidity','Cloudiness','Wind Speed','Country','Date'])    \n",
    "    \n",
    "    for index in range(len(weather_data)):    \n",
    "        City = cities[index]\n",
    "        Lat = weather_data[index]['coord']['lat']\n",
    "        Lng = weather_data[index]['coord']['lon']\n",
    "        Max_Temp = weather_data[index]['main']['temp']\n",
    "        Humidity = weather_data[index]['main']['humidity']                                \n",
    "        Cloudiness = weather_data[index]['clouds']['all']\n",
    "        Wind_Speed = weather_data[index]['wind']['speed']\n",
    "        Country = weather_data[index]['sys']['country']\n",
    "        Date = weather_data[index]['dt']\n",
    "        \n",
    "        csvwriter.writerow ([City, Lat, Lng, Max_Temp, Humidity, Cloudiness, Wind_Speed, Country, Date])\n",
    "    \n",
    "# Creating Data Frame\n",
    "Cities_df = pd.read_csv(output_path)\n",
    "Cities_df.head()"
   ]
  },
  {
   "cell_type": "code",
   "execution_count": 5,
   "metadata": {},
   "outputs": [
    {
     "data": {
      "text/html": [
       "<div>\n",
       "<style scoped>\n",
       "    .dataframe tbody tr th:only-of-type {\n",
       "        vertical-align: middle;\n",
       "    }\n",
       "\n",
       "    .dataframe tbody tr th {\n",
       "        vertical-align: top;\n",
       "    }\n",
       "\n",
       "    .dataframe thead th {\n",
       "        text-align: right;\n",
       "    }\n",
       "</style>\n",
       "<table border=\"1\" class=\"dataframe\">\n",
       "  <thead>\n",
       "    <tr style=\"text-align: right;\">\n",
       "      <th></th>\n",
       "      <th>Lat</th>\n",
       "      <th>Lng</th>\n",
       "      <th>Max Temp</th>\n",
       "      <th>Humidity</th>\n",
       "      <th>Cloudiness</th>\n",
       "      <th>Wind Speed</th>\n",
       "      <th>Date</th>\n",
       "    </tr>\n",
       "  </thead>\n",
       "  <tbody>\n",
       "    <tr>\n",
       "      <th>count</th>\n",
       "      <td>555.000000</td>\n",
       "      <td>555.000000</td>\n",
       "      <td>555.000000</td>\n",
       "      <td>555.000000</td>\n",
       "      <td>555.000000</td>\n",
       "      <td>555.000000</td>\n",
       "      <td>5.550000e+02</td>\n",
       "    </tr>\n",
       "    <tr>\n",
       "      <th>mean</th>\n",
       "      <td>21.106906</td>\n",
       "      <td>14.395364</td>\n",
       "      <td>66.412523</td>\n",
       "      <td>72.055856</td>\n",
       "      <td>56.187387</td>\n",
       "      <td>7.740901</td>\n",
       "      <td>1.655692e+09</td>\n",
       "    </tr>\n",
       "    <tr>\n",
       "      <th>std</th>\n",
       "      <td>32.852983</td>\n",
       "      <td>91.045426</td>\n",
       "      <td>13.460171</td>\n",
       "      <td>19.519557</td>\n",
       "      <td>40.922806</td>\n",
       "      <td>5.620221</td>\n",
       "      <td>6.053614e+01</td>\n",
       "    </tr>\n",
       "    <tr>\n",
       "      <th>min</th>\n",
       "      <td>-54.800000</td>\n",
       "      <td>-175.200000</td>\n",
       "      <td>31.660000</td>\n",
       "      <td>8.000000</td>\n",
       "      <td>0.000000</td>\n",
       "      <td>0.000000</td>\n",
       "      <td>1.655692e+09</td>\n",
       "    </tr>\n",
       "    <tr>\n",
       "      <th>25%</th>\n",
       "      <td>-3.864600</td>\n",
       "      <td>-66.370450</td>\n",
       "      <td>55.605000</td>\n",
       "      <td>61.000000</td>\n",
       "      <td>10.500000</td>\n",
       "      <td>3.480000</td>\n",
       "      <td>1.655692e+09</td>\n",
       "    </tr>\n",
       "    <tr>\n",
       "      <th>50%</th>\n",
       "      <td>25.716700</td>\n",
       "      <td>20.226300</td>\n",
       "      <td>67.370000</td>\n",
       "      <td>76.000000</td>\n",
       "      <td>70.000000</td>\n",
       "      <td>5.930000</td>\n",
       "      <td>1.655692e+09</td>\n",
       "    </tr>\n",
       "    <tr>\n",
       "      <th>75%</th>\n",
       "      <td>49.691800</td>\n",
       "      <td>91.028200</td>\n",
       "      <td>77.350000</td>\n",
       "      <td>86.000000</td>\n",
       "      <td>100.000000</td>\n",
       "      <td>11.180000</td>\n",
       "      <td>1.655692e+09</td>\n",
       "    </tr>\n",
       "    <tr>\n",
       "      <th>max</th>\n",
       "      <td>78.218600</td>\n",
       "      <td>179.316700</td>\n",
       "      <td>93.130000</td>\n",
       "      <td>100.000000</td>\n",
       "      <td>100.000000</td>\n",
       "      <td>38.010000</td>\n",
       "      <td>1.655692e+09</td>\n",
       "    </tr>\n",
       "  </tbody>\n",
       "</table>\n",
       "</div>"
      ],
      "text/plain": [
       "              Lat         Lng    Max Temp    Humidity  Cloudiness  Wind Speed  \\\n",
       "count  555.000000  555.000000  555.000000  555.000000  555.000000  555.000000   \n",
       "mean    21.106906   14.395364   66.412523   72.055856   56.187387    7.740901   \n",
       "std     32.852983   91.045426   13.460171   19.519557   40.922806    5.620221   \n",
       "min    -54.800000 -175.200000   31.660000    8.000000    0.000000    0.000000   \n",
       "25%     -3.864600  -66.370450   55.605000   61.000000   10.500000    3.480000   \n",
       "50%     25.716700   20.226300   67.370000   76.000000   70.000000    5.930000   \n",
       "75%     49.691800   91.028200   77.350000   86.000000  100.000000   11.180000   \n",
       "max     78.218600  179.316700   93.130000  100.000000  100.000000   38.010000   \n",
       "\n",
       "               Date  \n",
       "count  5.550000e+02  \n",
       "mean   1.655692e+09  \n",
       "std    6.053614e+01  \n",
       "min    1.655692e+09  \n",
       "25%    1.655692e+09  \n",
       "50%    1.655692e+09  \n",
       "75%    1.655692e+09  \n",
       "max    1.655692e+09  "
      ]
     },
     "execution_count": 5,
     "metadata": {},
     "output_type": "execute_result"
    }
   ],
   "source": [
    "Stats_df = Cities_df.describe()\n",
    "Stats_df"
   ]
  },
  {
   "cell_type": "markdown",
   "metadata": {},
   "source": [
    "## Inspect the data and remove the cities where the humidity > 100%.\n",
    "----\n",
    "Skip this step if there are no cities that have humidity > 100%. "
   ]
  },
  {
   "cell_type": "code",
   "execution_count": 6,
   "metadata": {},
   "outputs": [
    {
     "data": {
      "text/html": [
       "<div>\n",
       "<style scoped>\n",
       "    .dataframe tbody tr th:only-of-type {\n",
       "        vertical-align: middle;\n",
       "    }\n",
       "\n",
       "    .dataframe tbody tr th {\n",
       "        vertical-align: top;\n",
       "    }\n",
       "\n",
       "    .dataframe thead th {\n",
       "        text-align: right;\n",
       "    }\n",
       "</style>\n",
       "<table border=\"1\" class=\"dataframe\">\n",
       "  <thead>\n",
       "    <tr style=\"text-align: right;\">\n",
       "      <th></th>\n",
       "      <th>Lat</th>\n",
       "      <th>Lng</th>\n",
       "      <th>Max Temp</th>\n",
       "      <th>Humidity</th>\n",
       "      <th>Cloudiness</th>\n",
       "      <th>Wind Speed</th>\n",
       "      <th>Date</th>\n",
       "    </tr>\n",
       "  </thead>\n",
       "  <tbody>\n",
       "    <tr>\n",
       "      <th>count</th>\n",
       "      <td>555.000000</td>\n",
       "      <td>555.000000</td>\n",
       "      <td>555.000000</td>\n",
       "      <td>555.000000</td>\n",
       "      <td>555.000000</td>\n",
       "      <td>555.000000</td>\n",
       "      <td>5.550000e+02</td>\n",
       "    </tr>\n",
       "    <tr>\n",
       "      <th>mean</th>\n",
       "      <td>21.106906</td>\n",
       "      <td>14.395364</td>\n",
       "      <td>66.412523</td>\n",
       "      <td>72.055856</td>\n",
       "      <td>56.187387</td>\n",
       "      <td>7.740901</td>\n",
       "      <td>1.655692e+09</td>\n",
       "    </tr>\n",
       "    <tr>\n",
       "      <th>std</th>\n",
       "      <td>32.852983</td>\n",
       "      <td>91.045426</td>\n",
       "      <td>13.460171</td>\n",
       "      <td>19.519557</td>\n",
       "      <td>40.922806</td>\n",
       "      <td>5.620221</td>\n",
       "      <td>6.053614e+01</td>\n",
       "    </tr>\n",
       "    <tr>\n",
       "      <th>min</th>\n",
       "      <td>-54.800000</td>\n",
       "      <td>-175.200000</td>\n",
       "      <td>31.660000</td>\n",
       "      <td>8.000000</td>\n",
       "      <td>0.000000</td>\n",
       "      <td>0.000000</td>\n",
       "      <td>1.655692e+09</td>\n",
       "    </tr>\n",
       "    <tr>\n",
       "      <th>25%</th>\n",
       "      <td>-3.864600</td>\n",
       "      <td>-66.370450</td>\n",
       "      <td>55.605000</td>\n",
       "      <td>61.000000</td>\n",
       "      <td>10.500000</td>\n",
       "      <td>3.480000</td>\n",
       "      <td>1.655692e+09</td>\n",
       "    </tr>\n",
       "    <tr>\n",
       "      <th>50%</th>\n",
       "      <td>25.716700</td>\n",
       "      <td>20.226300</td>\n",
       "      <td>67.370000</td>\n",
       "      <td>76.000000</td>\n",
       "      <td>70.000000</td>\n",
       "      <td>5.930000</td>\n",
       "      <td>1.655692e+09</td>\n",
       "    </tr>\n",
       "    <tr>\n",
       "      <th>75%</th>\n",
       "      <td>49.691800</td>\n",
       "      <td>91.028200</td>\n",
       "      <td>77.350000</td>\n",
       "      <td>86.000000</td>\n",
       "      <td>100.000000</td>\n",
       "      <td>11.180000</td>\n",
       "      <td>1.655692e+09</td>\n",
       "    </tr>\n",
       "    <tr>\n",
       "      <th>max</th>\n",
       "      <td>78.218600</td>\n",
       "      <td>179.316700</td>\n",
       "      <td>93.130000</td>\n",
       "      <td>100.000000</td>\n",
       "      <td>100.000000</td>\n",
       "      <td>38.010000</td>\n",
       "      <td>1.655692e+09</td>\n",
       "    </tr>\n",
       "  </tbody>\n",
       "</table>\n",
       "</div>"
      ],
      "text/plain": [
       "              Lat         Lng    Max Temp    Humidity  Cloudiness  Wind Speed  \\\n",
       "count  555.000000  555.000000  555.000000  555.000000  555.000000  555.000000   \n",
       "mean    21.106906   14.395364   66.412523   72.055856   56.187387    7.740901   \n",
       "std     32.852983   91.045426   13.460171   19.519557   40.922806    5.620221   \n",
       "min    -54.800000 -175.200000   31.660000    8.000000    0.000000    0.000000   \n",
       "25%     -3.864600  -66.370450   55.605000   61.000000   10.500000    3.480000   \n",
       "50%     25.716700   20.226300   67.370000   76.000000   70.000000    5.930000   \n",
       "75%     49.691800   91.028200   77.350000   86.000000  100.000000   11.180000   \n",
       "max     78.218600  179.316700   93.130000  100.000000  100.000000   38.010000   \n",
       "\n",
       "               Date  \n",
       "count  5.550000e+02  \n",
       "mean   1.655692e+09  \n",
       "std    6.053614e+01  \n",
       "min    1.655692e+09  \n",
       "25%    1.655692e+09  \n",
       "50%    1.655692e+09  \n",
       "75%    1.655692e+09  \n",
       "max    1.655692e+09  "
      ]
     },
     "execution_count": 6,
     "metadata": {},
     "output_type": "execute_result"
    }
   ],
   "source": [
    "#I don't have cities with over 100% of Humidity at the moment of working with the current Data Set.\n",
    "#In case I re-run my code, and different random cities appear which do have over 100% of Humidity...\n",
    "#then the code below will filter out and keep the cities with no more than 100% Humidity.\n",
    "\n",
    "Filtered_df = Cities_df.loc[Cities_df['Humidity'] <=100, :]\n",
    "Updated_Stats_df = Filtered_df.describe()\n",
    "Updated_Stats_df"
   ]
  },
  {
   "cell_type": "code",
   "execution_count": 7,
   "metadata": {},
   "outputs": [
    {
     "data": {
      "text/plain": [
       "[]"
      ]
     },
     "execution_count": 7,
     "metadata": {},
     "output_type": "execute_result"
    }
   ],
   "source": [
    "#  Get the indices of cities that have humidity over 100%.\n",
    "\n",
    "# Again, I did it just because if I re-run my code and cities with over 100% Humidity will appear.\n",
    "#I didn't need to do this step for my curent Data Set.\n",
    "\n",
    "Index_list = Cities_df[Cities_df['Humidity'] > 100].index.tolist()\n",
    "Index_list\n"
   ]
  },
  {
   "cell_type": "code",
   "execution_count": 8,
   "metadata": {},
   "outputs": [
    {
     "data": {
      "text/html": [
       "<div>\n",
       "<style scoped>\n",
       "    .dataframe tbody tr th:only-of-type {\n",
       "        vertical-align: middle;\n",
       "    }\n",
       "\n",
       "    .dataframe tbody tr th {\n",
       "        vertical-align: top;\n",
       "    }\n",
       "\n",
       "    .dataframe thead th {\n",
       "        text-align: right;\n",
       "    }\n",
       "</style>\n",
       "<table border=\"1\" class=\"dataframe\">\n",
       "  <thead>\n",
       "    <tr style=\"text-align: right;\">\n",
       "      <th></th>\n",
       "      <th>City</th>\n",
       "      <th>Lat</th>\n",
       "      <th>Lng</th>\n",
       "      <th>Max Temp</th>\n",
       "      <th>Humidity</th>\n",
       "      <th>Cloudiness</th>\n",
       "      <th>Wind Speed</th>\n",
       "      <th>Country</th>\n",
       "      <th>Date</th>\n",
       "    </tr>\n",
       "  </thead>\n",
       "  <tbody>\n",
       "    <tr>\n",
       "      <th>0</th>\n",
       "      <td>busselton</td>\n",
       "      <td>-33.6500</td>\n",
       "      <td>115.3333</td>\n",
       "      <td>64.08</td>\n",
       "      <td>74</td>\n",
       "      <td>67</td>\n",
       "      <td>11.30</td>\n",
       "      <td>AU</td>\n",
       "      <td>1655691864</td>\n",
       "    </tr>\n",
       "    <tr>\n",
       "      <th>1</th>\n",
       "      <td>cabedelo</td>\n",
       "      <td>-6.9811</td>\n",
       "      <td>-34.8339</td>\n",
       "      <td>75.87</td>\n",
       "      <td>84</td>\n",
       "      <td>23</td>\n",
       "      <td>9.28</td>\n",
       "      <td>BR</td>\n",
       "      <td>1655691865</td>\n",
       "    </tr>\n",
       "    <tr>\n",
       "      <th>2</th>\n",
       "      <td>mehamn</td>\n",
       "      <td>71.0357</td>\n",
       "      <td>27.8492</td>\n",
       "      <td>42.75</td>\n",
       "      <td>100</td>\n",
       "      <td>100</td>\n",
       "      <td>0.00</td>\n",
       "      <td>NO</td>\n",
       "      <td>1655691865</td>\n",
       "    </tr>\n",
       "    <tr>\n",
       "      <th>3</th>\n",
       "      <td>constitucion</td>\n",
       "      <td>-35.3333</td>\n",
       "      <td>-72.4167</td>\n",
       "      <td>51.30</td>\n",
       "      <td>68</td>\n",
       "      <td>100</td>\n",
       "      <td>3.89</td>\n",
       "      <td>CL</td>\n",
       "      <td>1655691865</td>\n",
       "    </tr>\n",
       "    <tr>\n",
       "      <th>4</th>\n",
       "      <td>rikitea</td>\n",
       "      <td>-23.1203</td>\n",
       "      <td>-134.9692</td>\n",
       "      <td>71.78</td>\n",
       "      <td>65</td>\n",
       "      <td>95</td>\n",
       "      <td>22.12</td>\n",
       "      <td>PF</td>\n",
       "      <td>1655691865</td>\n",
       "    </tr>\n",
       "  </tbody>\n",
       "</table>\n",
       "</div>"
      ],
      "text/plain": [
       "           City      Lat       Lng  Max Temp  Humidity  Cloudiness  \\\n",
       "0     busselton -33.6500  115.3333     64.08        74          67   \n",
       "1      cabedelo  -6.9811  -34.8339     75.87        84          23   \n",
       "2        mehamn  71.0357   27.8492     42.75       100         100   \n",
       "3  constitucion -35.3333  -72.4167     51.30        68         100   \n",
       "4       rikitea -23.1203 -134.9692     71.78        65          95   \n",
       "\n",
       "   Wind Speed Country        Date  \n",
       "0       11.30      AU  1655691864  \n",
       "1        9.28      BR  1655691865  \n",
       "2        0.00      NO  1655691865  \n",
       "3        3.89      CL  1655691865  \n",
       "4       22.12      PF  1655691865  "
      ]
     },
     "execution_count": 8,
     "metadata": {},
     "output_type": "execute_result"
    }
   ],
   "source": [
    "# Make a new DataFrame equal to the city data to drop all humidity outliers by index.\n",
    "# Passing \"inplace=False\" will make a copy of the city_data DataFrame, which we call \"clean_city_data\".\n",
    "\n",
    "# I did it above with the .loc function... So I call it. (but as I stated above, this whole step wasn't needed for my curent Data Set)\n",
    "Filtered_df.head()"
   ]
  },
  {
   "cell_type": "markdown",
   "metadata": {},
   "source": [
    "## Plotting the Data\n",
    "* Use proper labeling of the plots using plot titles (including date of analysis) and axes labels.\n",
    "* Save the plotted figures as .pngs."
   ]
  },
  {
   "cell_type": "markdown",
   "metadata": {},
   "source": [
    "## Latitude vs. Temperature Plot"
   ]
  },
  {
   "cell_type": "code",
   "execution_count": 9,
   "metadata": {
    "scrolled": true
   },
   "outputs": [],
   "source": [
    "#Defining a general function to create Scatter Plot Graphs\n",
    "def weather_scatter_plot(x_values, y_values,title, x_label, y_label):\n",
    "    \n",
    "    #Create Scatter Plot\n",
    "    plt.scatter(x_values,y_values, edgecolors='black')\n",
    "    plt.grid(color='#9FA095', alpha=1)\n",
    "    \n",
    "    #Title and Labels\n",
    "    plt.title(title)\n",
    "    plt.xlabel(x_label)\n",
    "    plt.ylabel(y_label)"
   ]
  },
  {
   "cell_type": "code",
   "execution_count": 10,
   "metadata": {},
   "outputs": [
    {
     "data": {
      "image/png": "[encoded data removed]",
      "text/plain": [
       "<Figure size 432x288 with 1 Axes>"
      ]
     },
     "metadata": {
      "needs_background": "light"
     },
     "output_type": "display_data"
    }
   ],
   "source": [
    "#Get today's date and format it mm/dd/yy\n",
    "Today = date.today()\n",
    "Todays_date = Today.strftime('%m/%d/%y')\n",
    "\n",
    "#Creating City Latitude vs Max Temperature scatter plot\n",
    "weather_scatter_plot(Filtered_df['Lat'], Filtered_df['Max Temp'],\n",
    "                     f'City Latitude vs. Max Temperature ({Todays_date})',\n",
    "                     'Latitude', 'Max Temperature (f)')\n",
    "\n",
    "#Saving Figure to my output_data folder\n",
    "plt.savefig(\"../Images/Lat_vs_MaxTemp.png\")\n",
    "\n",
    "#Show the plot\n",
    "plt.show()"
   ]
  },
  {
   "cell_type": "markdown",
   "metadata": {},
   "source": [
    "## Latitude vs. Humidity Plot"
   ]
  },
  {
   "cell_type": "code",
   "execution_count": 11,
   "metadata": {},
   "outputs": [
    {
     "data": {
      "image/png": "[encoded data removed]",
      "text/plain": [
       "<Figure size 432x288 with 1 Axes>"
      ]
     },
     "metadata": {
      "needs_background": "light"
     },
     "output_type": "display_data"
    }
   ],
   "source": [
    "#Creating City Latitude vs Humidity scatter plot\n",
    "weather_scatter_plot(Filtered_df['Lat'], Filtered_df['Humidity'],\n",
    "                     f'City Latitude vs. Humidity ({Todays_date})',\n",
    "                     'Latitude', 'Humidity (%)')\n",
    "\n",
    "#Saving Figure to my output_data folder\n",
    "plt.savefig(\"../Images/Lat_vs_Humidity.png\")\n",
    "\n",
    "#Show the plot\n",
    "plt.show()"
   ]
  },
  {
   "cell_type": "markdown",
   "metadata": {},
   "source": [
    "## Latitude vs. Cloudiness Plot"
   ]
  },
  {
   "cell_type": "code",
   "execution_count": 12,
   "metadata": {},
   "outputs": [
    {
     "data": {
      "image/png": "[encoded data removed]",
      "text/plain": [
       "<Figure size 432x288 with 1 Axes>"
      ]
     },
     "metadata": {
      "needs_background": "light"
     },
     "output_type": "display_data"
    }
   ],
   "source": [
    "#Creating City Latitude vs Cloudiness scatter plot\n",
    "weather_scatter_plot(Filtered_df['Lat'], Filtered_df['Cloudiness'],\n",
    "                     f'City Latitude vs. Cloudiness ({Todays_date})',\n",
    "                     'Latitude', 'Cloudiness (%)')\n",
    "\n",
    "#Saving Figure to my output_data folder\n",
    "plt.savefig(\"../Images/Lat_vs_Cloudiness.png\")\n",
    "\n",
    "#Show the plot\n",
    "plt.show()"
   ]
  },
  {
   "cell_type": "markdown",
   "metadata": {},
   "source": [
    "## Latitude vs. Wind Speed Plot"
   ]
  },
  {
   "cell_type": "code",
   "execution_count": 13,
   "metadata": {},
   "outputs": [
    {
     "data": {
      "image/png": "[encoded data removed]",
      "text/plain": [
       "<Figure size 432x288 with 1 Axes>"
      ]
     },
     "metadata": {
      "needs_background": "light"
     },
     "output_type": "display_data"
    }
   ],
   "source": [
    "#Creating City Latitude vs Wind Speed scatter plot\n",
    "weather_scatter_plot(Filtered_df['Lat'], Filtered_df['Wind Speed'],\n",
    "                     f'City Latitude vs. Wind Speed ({Todays_date})',\n",
    "                     'Latitude', 'Wind Speed (mph)')\n",
    "\n",
    "#Saving Figure to my output_data folder\n",
    "plt.savefig(\"../Images/Lat_vs_WindSpeed.png\")\n",
    "\n",
    "#Show the plot\n",
    "plt.show()"
   ]
  },
  {
   "cell_type": "markdown",
   "metadata": {},
   "source": [
    "## Linear Regression"
   ]
  },
  {
   "cell_type": "code",
   "execution_count": 15,
   "metadata": {},
   "outputs": [],
   "source": [
    "#Defining a general function to create Linear Regression Plots\n",
    "def plot_linear_regression(x_values, y_values, x_line_eq, y_line_eq, x_label, y_label):\n",
    "    \n",
    "    #Perform  Linear Regression\n",
    "    (slope, intercept, rvalue, pvalue, stderr) = linregress(x_values, y_values) \n",
    "    \n",
    "    #Get regression values\n",
    "    regress_values = x_values * slope + intercept\n",
    "    \n",
    "    #Create line equation string\n",
    "    line_eq = \"y = \" + str(round(slope,2)) + \"x + \" + str(round(intercept,2))\n",
    "    \n",
    "    #Create Scatter Plot\n",
    "    plt.scatter(x_values,y_values)\n",
    "    plt.plot(x_values,regress_values,\"r-\")\n",
    "    \n",
    "    #Displaying equation on the plot\n",
    "    plt.annotate(line_eq,(x_line_eq, y_line_eq),fontsize=15,color=\"red\")\n",
    "    \n",
    "    #Labels\n",
    "    plt.xlabel(x_label)\n",
    "    plt.ylabel(y_label)\n",
    "    \n",
    "    #Printing r-values\n",
    "    print(f'The r-value is: {rvalue**2}')"
   ]
  },
  {
   "cell_type": "markdown",
   "metadata": {},
   "source": [
    "####  Northern Hemisphere - Max Temp vs. Latitude Linear Regression"
   ]
  },
  {
   "cell_type": "code",
   "execution_count": 16,
   "metadata": {},
   "outputs": [
    {
     "name": "stdout",
     "output_type": "stream",
     "text": [
      "The r-value is: 0.4876035601629339\n"
     ]
    },
    {
     "data": {
      "image/png": "[encoded data removed]",
      "text/plain": [
       "<Figure size 432x288 with 1 Axes>"
      ]
     },
     "metadata": {
      "needs_background": "light"
     },
     "output_type": "display_data"
    }
   ],
   "source": [
    "#Filtering the Data to get Northern Hemisphere\n",
    "Northern_df = Filtered_df.loc[Filtered_df['Lat']>0, :]\n",
    "\n",
    "#Plotting Latitude vs Max Temp chart for the Nothern Hemisphere \n",
    "plot_linear_regression(Northern_df['Lat'], Northern_df['Max Temp'],1,35,'Latitude', 'Max Temp')\n",
    "\n",
    "#Saving Figure to my output_data folder\n",
    "plt.savefig(\"../Images/NorthernHem_Lat_vs_MaxTemp.png\")\n",
    "\n",
    "#Show the plot\n",
    "plt.show()"
   ]
  },
  {
   "cell_type": "markdown",
   "metadata": {},
   "source": [
    "####  Southern Hemisphere - Max Temp vs. Latitude Linear Regression"
   ]
  },
  {
   "cell_type": "code",
   "execution_count": 17,
   "metadata": {},
   "outputs": [
    {
     "name": "stdout",
     "output_type": "stream",
     "text": [
      "The r-value is: 0.5832214945692634\n"
     ]
    },
    {
     "data": {
      "image/png": "[encoded data removed]",
      "text/plain": [
       "<Figure size 432x288 with 1 Axes>"
      ]
     },
     "metadata": {
      "needs_background": "light"
     },
     "output_type": "display_data"
    }
   ],
   "source": [
    "#Filtering the Data to get Southern Hemisphere\n",
    "Southern_df = Filtered_df.loc[Filtered_df['Lat']<0, :]\n",
    "\n",
    "#Plotting Latitude vs Max Temp chart for the Souhern Hemisphere \n",
    "plot_linear_regression(Southern_df['Lat'], Southern_df['Max Temp'],-55,90,'Latitude', 'Max Temp')\n",
    "\n",
    "#Saving Figure to my output_data folder\n",
    "plt.savefig(\"../Images/SouthernHem_Lat_vs_MaxTemp.png\")\n",
    "\n",
    "#Show the plot\n",
    "plt.show()"
   ]
  },
  {
   "cell_type": "markdown",
   "metadata": {},
   "source": [
    "####  Northern Hemisphere - Humidity (%) vs. Latitude Linear Regression"
   ]
  },
  {
   "cell_type": "code",
   "execution_count": 18,
   "metadata": {},
   "outputs": [
    {
     "name": "stdout",
     "output_type": "stream",
     "text": [
      "The r-value is: 0.0048939959146010415\n"
     ]
    },
    {
     "data": {
      "image/png": "[encoded data removed]",
      "text/plain": [
       "<Figure size 432x288 with 1 Axes>"
      ]
     },
     "metadata": {
      "needs_background": "light"
     },
     "output_type": "display_data"
    }
   ],
   "source": [
    "#Plotting Latitude vs Humidity chart for the Nothern Hemisphere \n",
    "plot_linear_regression(Northern_df['Lat'], Northern_df['Humidity'],0,15,'Latitude', 'Humidity (%)')\n",
    "\n",
    "#Saving Figure to my output_data folder\n",
    "plt.savefig(\"../Images/NorthernHem_Lat_vs_Humidity.png\")\n",
    "\n",
    "#Show the plot\n",
    "plt.show()"
   ]
  },
  {
   "cell_type": "markdown",
   "metadata": {},
   "source": [
    "####  Southern Hemisphere - Humidity (%) vs. Latitude Linear Regression"
   ]
  },
  {
   "cell_type": "code",
   "execution_count": 19,
   "metadata": {},
   "outputs": [
    {
     "name": "stdout",
     "output_type": "stream",
     "text": [
      "The r-value is: 0.019968090579413005\n"
     ]
    },
    {
     "data": {
      "image/png": "[encoded data removed]",
      "text/plain": [
       "<Figure size 432x288 with 1 Axes>"
      ]
     },
     "metadata": {
      "needs_background": "light"
     },
     "output_type": "display_data"
    }
   ],
   "source": [
    "#Plotting Latitude vs Humidity chart for the Southern Hemisphere \n",
    "plot_linear_regression(Southern_df['Lat'], Southern_df['Humidity'],-55,20,'Latitude', 'Humidity (%)')\n",
    "\n",
    "#Saving Figure to my output_data folder\n",
    "plt.savefig(\"../Images/SouthernHem_Lat_vs_Humidity.png\")\n",
    "\n",
    "#Show the plot\n",
    "plt.show()"
   ]
  },
  {
   "cell_type": "markdown",
   "metadata": {},
   "source": [
    "####  Northern Hemisphere - Cloudiness (%) vs. Latitude Linear Regression"
   ]
  },
  {
   "cell_type": "code",
   "execution_count": 20,
   "metadata": {},
   "outputs": [
    {
     "name": "stdout",
     "output_type": "stream",
     "text": [
      "The r-value is: 0.00019602448706649835\n"
     ]
    },
    {
     "data": {
      "image/png": "[encoded data removed]",
      "text/plain": [
       "<Figure size 432x288 with 1 Axes>"
      ]
     },
     "metadata": {
      "needs_background": "light"
     },
     "output_type": "display_data"
    }
   ],
   "source": [
    "#Plotting Latitude vs Cloudiness chart for the Nothern Hemisphere \n",
    "plot_linear_regression(Northern_df['Lat'], Northern_df['Cloudiness'],0,33,'Latitude', 'Cloudiness (%)')\n",
    "\n",
    "#Saving Figure to my output_data folder\n",
    "plt.savefig(\"../Images/NorthernHem_Lat_vs_Cloudiness.png\")\n",
    "\n",
    "#Show the plot\n",
    "plt.show()"
   ]
  },
  {
   "cell_type": "markdown",
   "metadata": {},
   "source": [
    "####  Southern Hemisphere - Cloudiness (%) vs. Latitude Linear Regression"
   ]
  },
  {
   "cell_type": "code",
   "execution_count": 22,
   "metadata": {},
   "outputs": [
    {
     "name": "stdout",
     "output_type": "stream",
     "text": [
      "The r-value is: 0.0027216162097494206\n"
     ]
    },
    {
     "data": {
      "image/png": "[encoded data removed]",
      "text/plain": [
       "<Figure size 432x288 with 1 Axes>"
      ]
     },
     "metadata": {
      "needs_background": "light"
     },
     "output_type": "display_data"
    }
   ],
   "source": [
    "\n",
    "#Plotting Latitude vs Cloudiness chart for the Sothern Hemisphere \n",
    "plot_linear_regression(Southern_df['Lat'], Southern_df['Cloudiness'],-55,20,'Latitude', 'Cloudiness (%)')\n",
    "\n",
    "#Saving Figure to my output_data folder\n",
    "plt.savefig(\"../Images/SouthernHem_Lat_vs_Cloudiness.png\")\n",
    "\n",
    "#Show the plot\n",
    "plt.show()"
   ]
  },
  {
   "cell_type": "markdown",
   "metadata": {},
   "source": [
    "####  Northern Hemisphere - Wind Speed (mph) vs. Latitude Linear Regression"
   ]
  },
  {
   "cell_type": "code",
   "execution_count": 23,
   "metadata": {},
   "outputs": [
    {
     "name": "stdout",
     "output_type": "stream",
     "text": [
      "The r-value is: 0.013839290625290606\n"
     ]
    },
    {
     "data": {
      "image/png": "[encoded data removed]",
      "text/plain": [
       "<Figure size 432x288 with 1 Axes>"
      ]
     },
     "metadata": {
      "needs_background": "light"
     },
     "output_type": "display_data"
    }
   ],
   "source": [
    "#Plotting Latitude vs Wind Speed chart for the Nothern Hemisphere \n",
    "plot_linear_regression(Northern_df['Lat'], Northern_df['Wind Speed'],20,29,'Latitude', 'Wind Speed (mph)')\n",
    "\n",
    "#Saving Figure to my output_data folder\n",
    "plt.savefig(\"../Images/NorthernHem_Lat_vs_WindSpeed.png\")\n",
    "\n",
    "#Show the plot\n",
    "plt.show()"
   ]
  },
  {
   "cell_type": "markdown",
   "metadata": {},
   "source": [
    "####  Southern Hemisphere - Wind Speed (mph) vs. Latitude Linear Regression"
   ]
  },
  {
   "cell_type": "code",
   "execution_count": 24,
   "metadata": {},
   "outputs": [
    {
     "name": "stdout",
     "output_type": "stream",
     "text": [
      "The r-value is: 0.029130051594487522\n"
     ]
    },
    {
     "data": {
      "image/png": "[encoded data removed]",
      "text/plain": [
       "<Figure size 432x288 with 1 Axes>"
      ]
     },
     "metadata": {
      "needs_background": "light"
     },
     "output_type": "display_data"
    }
   ],
   "source": [
    "#Plotting Latitude vs Wind Speed chart for the Sothern Hemisphere \n",
    "plot_linear_regression(Southern_df['Lat'], Southern_df['Wind Speed'],-32,20,'Latitude', 'Wind Speed (mph)')\n",
    "\n",
    "#Saving Figure to my output_data folder\n",
    "plt.savefig(\"../Images/SouthernHem_Lat_vs_WindSpeed.png\")\n",
    "\n",
    "#Show the plot\n",
    "plt.show()"
   ]
  },
  {
   "cell_type": "code",
   "execution_count": null,
   "metadata": {},
   "outputs": [],
   "source": []
  }
 ],
 "metadata": {
  "anaconda-cloud": {},
  "kernel_info": {
   "name": "python3"
  },
  "kernelspec": {
   "display_name": "Python 3.7.13 ('bootcamp')",
   "language": "python",
   "name": "python3"
  },
  "language_info": {
   "codemirror_mode": {
    "name": "ipython",
    "version": 3
   },
   "file_extension": ".py",
   "mimetype": "text/x-python",
   "name": "python",
   "nbconvert_exporter": "python",
   "pygments_lexer": "ipython3",
   "version": "3.7.13"
  },
  "latex_envs": {
   "LaTeX_envs_menu_present": true,
   "autoclose": false,
   "autocomplete": true,
   "bibliofile": "biblio.bib",
   "cite_by": "apalike",
   "current_citInitial": 1,
   "eqLabelWithNumbers": true,
   "eqNumInitial": 1,
   "hotkeys": {
    "equation": "Ctrl-E",
    "itemize": "Ctrl-I"
   },
   "labels_anchors": false,
   "latex_user_defs": false,
   "report_style_numbering": false,
   "user_envs_cfg": false
  },
  "nteract": {
   "version": "0.12.3"
  },
  "vscode": {
   "interpreter": {
    "hash": "98c42bd800c0def929fe5fbc51a51dbf9983246cc50d6d6d1d0f0e7f101cd5b1"
   }
  }
 },
 "nbformat": 4,
 "nbformat_minor": 2
}
